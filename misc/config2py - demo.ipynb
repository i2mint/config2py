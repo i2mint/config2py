{
    "cells": [
        {
            "cell_type": "code",
            "execution_count": null,
            "metadata": {},
            "outputs": [],
            "source": []
        },
        {
            "cell_type": "markdown",
            "metadata": {},
            "source": [
                "# Use cases"
            ]
        },
        {
            "cell_type": "markdown",
            "metadata": {},
            "source": []
        },
        {
            "cell_type": "markdown",
            "metadata": {},
            "source": [
                "# The cherry on top"
            ]
        },
        {
            "cell_type": "code",
            "execution_count": 1,
            "metadata": {},
            "outputs": [],
            "source": [
                "from config2py import repl_config_getter"
            ]
        },
        {
            "cell_type": "markdown",
            "metadata": {},
            "source": [
                "Let's start with an extremely convenient, no questions asked, object.\n",
                "\n",
                "What `config2py.repl_config_getter(key)` will do is:\n",
                "* search for `key` in your environment variables, and if not found...\n",
                "* ... search for it in a `config2py` directory (automatically made) of the standard \"app data\" folder of your system (`~/.config` for linus/mac, `$APPDATA` for windows), and if not found...\n",
                "* ... ask the user to enter the value that key should have, and then put it in the `config2py` directory so it's persisted."
            ]
        },
        {
            "cell_type": "markdown",
            "metadata": {},
            "source": [
                "<img width=\"341\" alt=\"image\" src=\"https://github.com/i2mint/config2py/assets/1906276/09f287a8-05f9-4590-8664-10feda9ad617\">"
            ]
        },
        {
            "cell_type": "code",
            "execution_count": 14,
            "metadata": {},
            "outputs": [
                {
                    "data": {
                        "text/plain": [
                            "'/Users/thorwhalen'"
                        ]
                    },
                    "execution_count": 14,
                    "metadata": {},
                    "output_type": "execute_result"
                }
            ],
            "source": [
                "repl_config_getter('HOME')  # if you are using Linux/MacOS\n",
                "# repl_config_getter('USERPROFILE')  # if you are using Windows"
            ]
        },
        {
            "cell_type": "markdown",
            "metadata": {},
            "source": [
                "Now, normally all systems come with a `HOME` environment variable (or a `USERPROFILE` on windows), so the above should always work fine. \n",
                "But see what happens if you ask for a key that is not an environment variable:"
            ]
        },
        {
            "cell_type": "code",
            "execution_count": 2,
            "metadata": {},
            "outputs": [],
            "source": [
                "my_config_val = repl_config_getter('_TEST_NON_EXISTING_KEY_')  # triggers a user input dialog\n",
                "# ... I enter 'my config value' in the dialog, and then..."
            ]
        },
        {
            "cell_type": "code",
            "execution_count": 3,
            "metadata": {},
            "outputs": [
                {
                    "data": {
                        "text/plain": [
                            "'my config value'"
                        ]
                    },
                    "execution_count": 3,
                    "metadata": {},
                    "output_type": "execute_result"
                }
            ],
            "source": [
                "my_config_val"
            ]
        },
        {
            "cell_type": "markdown",
            "metadata": {},
            "source": [
                "But if I do that again (even on a different day, somewhere else (on my same computer), in a different session), it will get me the value I entered in the user input dialog."
            ]
        },
        {
            "cell_type": "code",
            "execution_count": 4,
            "metadata": {},
            "outputs": [
                {
                    "data": {
                        "text/plain": [
                            "'my config value'"
                        ]
                    },
                    "execution_count": 4,
                    "metadata": {},
                    "output_type": "execute_result"
                }
            ],
            "source": [
                "my_config_val = repl_config_getter('_TEST_NON_EXISTING_KEY_')  # does not trigger input dialog\n",
                "my_config_val"
            ]
        },
        {
            "cell_type": "markdown",
            "metadata": {},
            "source": [
                "And of course, we give you a means to delete that value, since `repl_config_getter` has a `local_configs` mapping (think `dict`) to the local files where it has been stored. \n",
                "You can do all the usual stuff you do with a `dict` (except the effects will be on local files), \n",
                "like list the keys (with `list(.)`), get values for a key (with `.[key]`), ask for the number of keys (`len(.)`), and, well, delete stuff:"
            ]
        },
        {
            "cell_type": "code",
            "execution_count": 6,
            "metadata": {},
            "outputs": [],
            "source": [
                "if '_TEST_NON_EXISTING_KEY_' in repl_config_getter.local_configs:\n",
                "    del repl_config_getter.local_configs['_TEST_NON_EXISTING_KEY_']\n"
            ]
        },
        {
            "cell_type": "markdown",
            "metadata": {},
            "source": [
                "This tool allows you to:\n",
                "* not have to set up any special configs stuff (unless you want/need to)\n",
                "* enables you to share your notebooks (CLIs etc.) with others without having to polute the code with configs-setup gunk...\n",
                "* ... including when you put local file/folder paths (or worse, secrets) in your notebook or code, which others then have to edit (instead, here, just enter a probably-unique name for the needed resource, then enter your filepath in the user input dialog instead)\n",
                "\n",
                "This is very convenient situation where user input (via things like `__builtins__.input` or `getpass.getpass` etc) is available. But **you should not use this to manage configurations/resources anywhere were there's not a user to see and respond to the builtin user input dialog**\n",
                "\n",
                "Don't fret though, this `repl_config_getter` is just our no-BS entry point to much more. \n",
                "Let's have a slight look under its hood to see what else we can do with it. \n",
                "\n",
                "And of course, if you're that type, you can already have a look at [the documentation](https://i2mint.github.io/config2py/)"
            ]
        },
        {
            "cell_type": "markdown",
            "metadata": {},
            "source": [
                "# Setting the config key search path"
            ]
        },
        {
            "cell_type": "markdown",
            "metadata": {},
            "source": [
                "If you check out the code for `repl_config_getter`, you'll find that all it is is:\n",
                "\n",
                "```python\n",
                "repl_config_getter = get_config(sources=[\n",
                "    os.environ,  # search in environment variables first\n",
                "    local_configs,  # then search in local_configs\n",
                "    user_gettable(local_configs)  # if not found, ask the user and store in local_configs\n",
                "])\n",
                "repl_config_getter.local_configs = local_configs\n",
                "```\n",
                "\n",
                "So you see that you can easily define your own sources for configs, and in what order they should be searched. If you don't want that \"ask the user for the value\" thing, you can just remove the `user_gettable(local_configs)` part. If you wanted instead to add a place to look before the environment variables -- say, you want to look in to local variables of the scope the config getter is **defined** (not called), you can stick `locals()` in front of the `os.environ`."
            ]
        },
        {
            "cell_type": "markdown",
            "metadata": {},
            "source": [
                "Let's work through a custom-made `config_getter`.\n",
                "\n",
                "```python\n",
                "from config2py import get_config, user_gettable\n",
                "from dol import TextFiles\n",
                "import os\n",
                "\n",
                "my_configs = TextFiles('~/.my_configs/')  # Note, to run this, you'd need to have such a directory!\n",
                "# (But you can also use my_configs = dict() if you want.)\n",
                "config_getter = get_config(sources=[locals(), os.environ, my_configs, user_gettable(my_configs)])\n",
                "```\n",
                "\n",
                "Now let's see what happens when we do:\n",
                "\n",
                "```python\n",
                "config_getter('SOME_CONFIG_KEY')\n",
                "```\n",
                "\n",
                "Well, it will first look in `locals()`, which is a dictionary containing local variables\n",
                "where the `config_getter` was **defined** (careful -- not called!!). \n",
                "This is desirable sometimes when you define your `config_getter` in a module that has other python variables you'd like to use. \n",
                "\n",
                "Assuming it doesn't find such a key in `locals()` it goes on to try to find it in \n",
                "`os.environ`, which is a dict containing system environment variables. \n",
                "\n",
                "Assuming it doesn't find it there either (that is, doesn't find a file with that name in \n",
                "the directory `~/.my_configs/`), it will prompt the user to enter the value of that key.\n",
                "The function finally returns with the value that the user entered.\n",
                "\n",
                "But there's more!\n",
                "\n",
                "Now look at what's in `my_configs`! \n",
                "If you've used `TextFiles`, look in the folder to see that there's a new file.\n",
                "Either way, if you do:\n",
                "\n",
                "```python\n",
                "my_configs['SOME_CONFIG_KEY']\n",
                "```\n",
                "\n",
                "You'll now see the value the user entered.\n",
                "\n",
                "This means what? This means that the next time you try to get the config:\n",
                "\n",
                "```python\n",
                "config_getter('SOME_CONFIG_KEY')\n",
                "```\n",
                "\n",
                "It will return the value that the user entered last time, without prompting the \n",
                "user again.\n",
                "\n",
                "\n",
                "# A few notable tools you can import from config2py\n",
                "\n",
                "* `get_config`: Get a config value from a list of sources. See more below.\n",
                "* `user_gettable`: Create a ``GettableContainer`` that asks the user for a value, optionally saving it.\n",
                "* `ask_user_for_input`: Ask the user for input, optionally masking, validating and transforming the input.\n",
                "* `get_app_data_folder`: Returns the full path of a directory suitable for storing application-specific data for a given app name.\n",
                "* `get_configs_local_store`: Get a local store (mapping interface of local files) of configs for a given app or package name\n",
                "* `configs`: A default local store (mapping interface of local files) for configs.\n",
                "\n",
                "## get_config\n",
                "\n",
                "Get a config value from a list of sources.\n",
                "\n",
                "This function acts as a mini-framework to construct config accessors including defining \n",
                "multiple sources of where to find these configs, \n",
                "\n",
                "A source can be a function or a ``GettableContainer``.\n",
                "(A ``GettableContainer`` is anything that can be indexed with brackets: ``obj[k]``,\n",
                "like ``dict``, ``list``, ``str``, etc..).\n",
                "\n",
                "Let's take two sources: a ``dict`` and a ``Callable``.\n",
                "\n",
                "    >>> def func(k):\n",
                "    ...     if k == 'foo':\n",
                "    ...         return 'quux'\n",
                "    ...     elif k == 'green':\n",
                "    ...         return 'eggs'\n",
                "    ...     else:\n",
                "    ...         raise RuntimeError(f\"I don't handle that: {k}\")\n",
                "    >>> dict_ = {'foo': 'bar', 'baz': 'qux'}\n",
                "    >>> sources = [func, dict_]\n",
                "\n",
                "\n",
                "See that ``get_config`` go through the sources in the order they were listed,\n",
                "and returns the first value it finds (or manages to compute) for the key:\n",
                "\n",
                "``get_config`` finds ``'foo'`` in the very first source (``func``):\n",
                "\n",
                "    >>> get_config('foo', sources)\n",
                "    'quux'\n",
                "\n",
                "But ``baz`` makes ``func`` raise an error, so it goes to the next source: ``dict_``.\n",
                "There, it finds ``'baz'`` and returns its value:\n",
                "\n",
                "    >>> get_config('baz', sources)\n",
                "    'qux'\n",
                "\n",
                "On the other hand, no one manages to find a config value for ``'no_a_key'``, so\n",
                "``get_config`` raises an error:\n",
                "\n",
                "    >>> get_config('no_a_key', sources)\n",
                "    Traceback (most recent call last):\n",
                "    ...\n",
                "    config2py.errors.ConfigNotFound: Could not find config for key: no_a_key\n",
                "\n",
                "But if you provide a default value, it will return that instead:\n",
                "\n",
                "    >>> get_config('no_a_key', sources, default='default')\n",
                "    'default'\n",
                "\n",
                "You can also provide a function that will be called on the value before it is\n",
                "returned. This is useful if you want to do some post-processing on the value,\n",
                "or if you want to make sure that the value is of a certain type:\n",
                "\n",
                "This \"search the next source if the previous one fails\" behavior may not be what\n",
                "you want in some situations, since you'd be hiding some errors that you might\n",
                "want to be aware of. This is why allow you to specify what exceptions should\n",
                "actually be considered as \"config not found\" exceptions, through the\n",
                "``config_not_found_exceptions`` argument, which defaults to ``Exception``.\n",
                "\n",
                "Further, your sources may return a value, but not one that you consider valid:\n",
                "For example, a sentinel like ``None``. In this case you may want the search to\n",
                "continue. This is what the ``val_is_valid`` argument is for. It is a function\n",
                "that takes a value and returns a boolean. If it returns ``False``, the search\n",
                "will continue. If it returns ``True``, the search will stop and the value will\n",
                "be returned.\n",
                "\n",
                "Finally, we have ``egress : Callable[[KT, TT], VT]``.\n",
                "This is a function that takes a key and a value, and\n",
                "returns a value. It is called after the value has been found, and its return\n",
                "value is the one that is returned by ``get_config``. This is useful if you want\n",
                "to do some post-processing on the value, or before you return the value, or if you\n",
                "want to do some caching.\n",
                "\n",
                "    >>> config_store = dict()\n",
                "    >>> def store_before_returning(k, v):\n",
                "    ...    config_store[k] = v\n",
                "    ...    return v\n",
                "    >>> get_config('foo', sources, egress=store_before_returning)\n",
                "    'quux'\n",
                "    >>> config_store\n",
                "    {'foo': 'quux'}\n",
                "\n",
                "    Note that a source can be a callable or a ``GettableContainer`` (most of the\n",
                "    time, a ``Mapping`` (e.g. ``dict``)).\n",
                "    Here, you should be compelled to use the resources of ``dol``\n",
                "    (https://pypi.org/project/dol/) which will allow you to make ``Mapping``s for all\n",
                "    sorts of data sources.\n",
                "\n",
                "For more info, see: https://github.com/i2mint/config2py/issues/4\n"
            ]
        },
        {
            "cell_type": "markdown",
            "metadata": {},
            "source": []
        },
        {
            "cell_type": "markdown",
            "metadata": {},
            "source": [
                "# `user_gettable`"
            ]
        },
        {
            "cell_type": "markdown",
            "metadata": {},
            "source": [
                "So, what's that `user_gettable`? \n",
                "\n",
                "It's a way for you to specify that the system should ask the user for a key, and optionally save it somewhere, plus many other parameters (like what to ask the user, etc.)"
            ]
        },
        {
            "cell_type": "code",
            "execution_count": null,
            "metadata": {},
            "outputs": [],
            "source": [
                "from config2py.base import user_gettable\n",
                "\n",
                "s = user_gettable()\n",
                "s['SOME_KEY'] \n",
                "# will trigger a prompt for the user to enter the value of SOME_KEY\n",
                "# ... and when they do (say they entered 'SOME_VAL') it will return that value\n",
                "\n",
                "# And if you specify a save_to store (usually a persistent MutableMapping made with the dol package)\n",
                "# then it will save the value to that store for future use\n",
                "d = dict(some='store')\n",
                "s = user_gettable(save_to=d)\n",
                "s['SOME_KEY'] "
            ]
        },
        {
            "cell_type": "markdown",
            "metadata": {},
            "source": [
                "More on that another day..."
            ]
        },
        {
            "cell_type": "code",
            "execution_count": null,
            "metadata": {},
            "outputs": [],
            "source": []
        },
        {
            "cell_type": "markdown",
            "metadata": {},
            "source": [
                "# `simple_config_getter`"
            ]
        },
        {
            "cell_type": "code",
            "execution_count": 1,
            "metadata": {},
            "outputs": [
                {
                    "name": "stdout",
                    "output_type": "stream",
                    "text": [
                        "(configs_src: str = '/Users/thorwhalen/.config/config2py/configs'\n",
                        " *\n",
                        " first_look_in_env_vars: bool = True\n",
                        " ask_user_if_key_not_found: bool = False\n",
                        " config_store_factory: Callable = <function get_configs_local_store at 0x1079770a0>)\n"
                    ]
                }
            ],
            "source": [
                "from config2py import simple_config_getter, get_configs_local_store\n",
                "from i2 import Sig\n",
                "\n",
                "print(*str(Sig(simple_config_getter)).split(','), sep='\\n')"
            ]
        },
        {
            "cell_type": "code",
            "execution_count": 2,
            "metadata": {},
            "outputs": [
                {
                    "data": {
                        "text/plain": [
                            "TextFiles(rootdir='/Users/thorwhalen/.config/config2py/configs', subpath='', pattern_for_field=None, max_levels=None, include_hidden=False, assert_rootdir_existence=False)"
                        ]
                    },
                    "execution_count": 2,
                    "metadata": {},
                    "output_type": "execute_result"
                }
            ],
            "source": [
                "config_getter = simple_config_getter()\n",
                "config_getter.configs"
            ]
        },
        {
            "cell_type": "code",
            "execution_count": 11,
            "metadata": {},
            "outputs": [
                {
                    "data": {
                        "text/plain": [
                            "[]"
                        ]
                    },
                    "execution_count": 11,
                    "metadata": {},
                    "output_type": "execute_result"
                }
            ],
            "source": [
                "list(config_getter.configs)"
            ]
        },
        {
            "cell_type": "code",
            "execution_count": 14,
            "metadata": {},
            "outputs": [
                {
                    "data": {
                        "text/plain": [
                            "'/Users/thorwhalen'"
                        ]
                    },
                    "execution_count": 14,
                    "metadata": {},
                    "output_type": "execute_result"
                }
            ],
            "source": [
                "config_getter('HOME')  # config_getter looks in env var first"
            ]
        },
        {
            "cell_type": "code",
            "execution_count": 11,
            "metadata": {},
            "outputs": [
                {
                    "data": {
                        "text/plain": [
                            "TextFiles(rootdir='/Users/thorwhalen/.config/opus/configs', subpath='', pattern_for_field=None, max_levels=None, include_hidden=False, assert_rootdir_existence=False)"
                        ]
                    },
                    "execution_count": 11,
                    "metadata": {},
                    "output_type": "execute_result"
                }
            ],
            "source": [
                "# want to have a local store for a given app\n",
                "\n",
                "config_getter = simple_config_getter('opus')\n",
                "config_getter.configs"
            ]
        },
        {
            "cell_type": "code",
            "execution_count": 13,
            "metadata": {},
            "outputs": [
                {
                    "data": {
                        "text/plain": [
                            "<configparser.ConfigParser object at 0x107833760>"
                        ]
                    },
                    "execution_count": 13,
                    "metadata": {},
                    "output_type": "execute_result"
                }
            ],
            "source": [
                "config_getter = simple_config_getter(\n",
                "    'SOMEPATH.ini' \n",
                ")\n",
                "config_getter.configs"
            ]
        },
        {
            "cell_type": "code",
            "execution_count": null,
            "metadata": {},
            "outputs": [],
            "source": []
        },
        {
            "cell_type": "code",
            "execution_count": null,
            "metadata": {},
            "outputs": [],
            "source": [
                "# config_getter.configs['oto_sharedpoint']['title']\n",
                "# # other possibilities\n",
                "\n",
                "# config_getter.configs['oto_sharedpoint.title']\n",
                "# config_getter.configs['title']"
            ]
        }
    ],
    "metadata": {
        "kernelspec": {
            "display_name": "Python 3",
            "language": "python",
            "name": "python3"
        },
        "language_info": {
            "codemirror_mode": {
                "name": "ipython",
                "version": 3
            },
            "file_extension": ".py",
            "mimetype": "text/x-python",
            "name": "python",
            "nbconvert_exporter": "python",
            "pygments_lexer": "ipython3",
            "version": "3.10.8"
        },
        "orig_nbformat": 4
    },
    "nbformat": 4,
    "nbformat_minor": 2
}
